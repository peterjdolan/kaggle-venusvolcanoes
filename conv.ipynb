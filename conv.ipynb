{
 "cells": [
  {
   "cell_type": "markdown",
   "metadata": {},
   "source": [
    "# Setup"
   ]
  },
  {
   "cell_type": "code",
   "execution_count": 37,
   "metadata": {},
   "outputs": [],
   "source": [
    "using CSV\n",
    "using DataFrames\n",
    "using Images\n",
    "using ImageAxes\n",
    "using Flux\n",
    "using Flux: onehotbatch, throttle, crossentropy, @epochs, onecold\n",
    "using Base.Iterators: partition"
   ]
  },
  {
   "cell_type": "markdown",
   "metadata": {},
   "source": [
    "# Load training data"
   ]
  },
  {
   "cell_type": "code",
   "execution_count": 2,
   "metadata": {},
   "outputs": [
    {
     "data": {
      "text/plain": [
       "\"done\""
      ]
     },
     "execution_count": 2,
     "metadata": {},
     "output_type": "execute_result"
    }
   ],
   "source": [
    "train_images_df = CSV.File(\"./train_images.csv\", datarow=1) |> DataFrame\n",
    "test_images_df = CSV.File(\"./test_images.csv\", datarow=1) |> DataFrame\n",
    "\"done\""
   ]
  },
  {
   "cell_type": "code",
   "execution_count": 3,
   "metadata": {},
   "outputs": [
    {
     "data": {
      "image/png": "[encoded data removed]",
      "text/plain": [
       "110×110 AxisArray{Gray{Normed{UInt8,8}},2,Array{Gray{Normed{UInt8,8}},2},Tuple{Axis{:h,Base.OneTo{Int64}},Axis{:w,Base.OneTo{Int64}}}}:\n",
       " Gray{N0f8}(0.357)  Gray{N0f8}(0.388)  …  Gray{N0f8}(0.4)  \n",
       " Gray{N0f8}(0.361)  Gray{N0f8}(0.4)       Gray{N0f8}(0.455)\n",
       " Gray{N0f8}(0.357)  Gray{N0f8}(0.392)     Gray{N0f8}(0.518)\n",
       " Gray{N0f8}(0.349)  Gray{N0f8}(0.376)     Gray{N0f8}(0.545)\n",
       " Gray{N0f8}(0.361)  Gray{N0f8}(0.38)      Gray{N0f8}(0.541)\n",
       " Gray{N0f8}(0.365)  Gray{N0f8}(0.376)  …  Gray{N0f8}(0.49) \n",
       " Gray{N0f8}(0.376)  Gray{N0f8}(0.384)     Gray{N0f8}(0.4)  \n",
       " Gray{N0f8}(0.396)  Gray{N0f8}(0.388)     Gray{N0f8}(0.384)\n",
       " Gray{N0f8}(0.42)   Gray{N0f8}(0.388)     Gray{N0f8}(0.392)\n",
       " Gray{N0f8}(0.408)  Gray{N0f8}(0.38)      Gray{N0f8}(0.376)\n",
       " Gray{N0f8}(0.361)  Gray{N0f8}(0.357)  …  Gray{N0f8}(0.365)\n",
       " Gray{N0f8}(0.318)  Gray{N0f8}(0.329)     Gray{N0f8}(0.345)\n",
       " Gray{N0f8}(0.298)  Gray{N0f8}(0.302)     Gray{N0f8}(0.349)\n",
       " ⋮                                     ⋱                   \n",
       " Gray{N0f8}(0.357)  Gray{N0f8}(0.361)     Gray{N0f8}(0.396)\n",
       " Gray{N0f8}(0.353)  Gray{N0f8}(0.365)     Gray{N0f8}(0.404)\n",
       " Gray{N0f8}(0.337)  Gray{N0f8}(0.365)  …  Gray{N0f8}(0.404)\n",
       " Gray{N0f8}(0.314)  Gray{N0f8}(0.341)     Gray{N0f8}(0.361)\n",
       " Gray{N0f8}(0.329)  Gray{N0f8}(0.298)     Gray{N0f8}(0.365)\n",
       " Gray{N0f8}(0.341)  Gray{N0f8}(0.267)     Gray{N0f8}(0.373)\n",
       " Gray{N0f8}(0.365)  Gray{N0f8}(0.298)     Gray{N0f8}(0.384)\n",
       " Gray{N0f8}(0.38)   Gray{N0f8}(0.341)  …  Gray{N0f8}(0.412)\n",
       " Gray{N0f8}(0.369)  Gray{N0f8}(0.329)     Gray{N0f8}(0.408)\n",
       " Gray{N0f8}(0.357)  Gray{N0f8}(0.282)     Gray{N0f8}(0.392)\n",
       " Gray{N0f8}(0.365)  Gray{N0f8}(0.298)     Gray{N0f8}(0.353)\n",
       " Gray{N0f8}(0.388)  Gray{N0f8}(0.353)     Gray{N0f8}(0.318)"
      ]
     },
     "execution_count": 3,
     "metadata": {},
     "output_type": "execute_result"
    }
   ],
   "source": [
    "function process_images(images_df)\n",
    "    images_arr = convert(Array, images_df)\n",
    "    AxisArray(\n",
    "        Gray{N0f8}.(reshape(images_arr' / 255, 110, 110, :)),\n",
    "        :h, :w, :i)\n",
    "end\n",
    "images_train = process_images(train_images_df)\n",
    "images_test = process_images(test_images_df)\n",
    "\n",
    "images_train[Axis{:i}(2)]"
   ]
  },
  {
   "cell_type": "markdown",
   "metadata": {},
   "source": [
    "# Load labels"
   ]
  },
  {
   "cell_type": "code",
   "execution_count": 4,
   "metadata": {},
   "outputs": [
    {
     "data": {
      "text/plain": [
       "\"done\""
      ]
     },
     "execution_count": 4,
     "metadata": {},
     "output_type": "execute_result"
    }
   ],
   "source": [
    "train_labels_df = CSV.File(\"./train_labels.csv\") |> DataFrame\n",
    "test_labels_df = CSV.File(\"./test_labels.csv\") |> DataFrame\n",
    "\"done\""
   ]
  },
  {
   "cell_type": "code",
   "execution_count": 5,
   "metadata": {},
   "outputs": [
    {
     "name": "stdout",
     "output_type": "stream",
     "text": [
      "(2, 7000)\n"
     ]
    },
    {
     "data": {
      "text/plain": [
       "2×10 Flux.OneHotMatrix{Array{Flux.OneHotVector,1}}:\n",
       " false   true   true   true   true   true   true   true   true  false\n",
       "  true  false  false  false  false  false  false  false  false   true"
      ]
     },
     "execution_count": 5,
     "metadata": {},
     "output_type": "execute_result"
    }
   ],
   "source": [
    "function onehot_targets(labels_df)\n",
    "    targets = labels_df[Symbol(\"Number Volcanoes\")]\n",
    "    targets = [isnan(x) ? 0.0 : 1.0 for x = targets]\n",
    "    onehotbatch(targets, 0:1)\n",
    "end\n",
    "\n",
    "targets_train = onehot_targets(train_labels_df)\n",
    "targets_test = onehot_targets(test_labels_df)\n",
    "println(size(targets_train))\n",
    "targets_train[:, 1:10]"
   ]
  },
  {
   "cell_type": "markdown",
   "metadata": {},
   "source": [
    "# Verify the inputs are aligned well"
   ]
  },
  {
   "cell_type": "code",
   "execution_count": 6,
   "metadata": {
    "scrolled": true
   },
   "outputs": [
    {
     "data": {
      "text/plain": [
       "28-element Array{Tuple{Array{Float64,4},Flux.OneHotMatrix{Array{Flux.OneHotVector,1}}},1}:\n",
       " ([0.419608 0.396078 … 0.388235 0.388235; 0.454902 0.415686 … 0.415686 0.435294; … ; 0.376471 0.34902 … 0.494118 0.509804; 0.407843 0.364706 … 0.521569 0.52549]\n",
       "\n",
       "[0.364706 0.356863 … 0.341176 0.360784; 0.372549 0.364706 … 0.384314 0.341176; … ; 0.313725 0.329412 … 0.4 0.360784; 0.301961 0.32549 … 0.411765 0.443137]\n",
       "\n",
       "[0.423529 0.439216 … 0.541176 0.521569; 0.423529 0.317647 … 0.509804 0.521569; … ; 0.482353 0.482353 … 0.572549 0.513725; 0.517647 0.427451 … 0.447059 0.541176]\n",
       "\n",
       "...\n",
       "\n",
       "[0.305882 0.258824 … 0.364706 0.34902; 0.345098 0.290196 … 0.341176 0.360784; … ; 0.376471 0.447059 … 0.392157 0.313725; 0.415686 0.423529 … 0.384314 0.32549]\n",
       "\n",
       "[0.419608 0.427451 … 0.439216 0.45098; 0.431373 0.407843 … 0.45098 0.509804; … ; 0.415686 0.380392 … 0.407843 0.435294; 0.352941 0.384314 … 0.439216 0.478431]\n",
       "\n",
       "[0.494118 0.494118 … 0.52549 0.478431; 0.482353 0.509804 … 0.462745 0.490196; … ; 0.470588 0.505882 … 0.54902 0.560784; 0.478431 0.529412 … 0.52549 0.513725], [true true … true true; false false … false false])          \n",
       " ([0.529412 0.486275 … 0.470588 0.517647; 0.482353 0.552941 … 0.447059 0.517647; … ; 0.470588 0.513725 … 0.423529 0.552941; 0.47451 0.505882 … 0.517647 0.529412]\n",
       "\n",
       "[0.376471 0.427451 … 0.396078 0.431373; 0.376471 0.415686 … 0.396078 0.407843; … ; 0.466667 0.47451 … 0.392157 0.329412; 0.439216 0.505882 … 0.407843 0.376471]\n",
       "\n",
       "[0.376471 0.254902 … 0.290196 0.352941; 0.368627 0.32549 … 0.305882 0.34902; … ; 0.376471 0.360784 … 0.431373 0.356863; 0.372549 0.411765 … 0.384314 0.368627]\n",
       "\n",
       "...\n",
       "\n",
       "[0.435294 0.423529 … 0.333333 0.356863; 0.45098 0.392157 … 0.396078 0.345098; … ; 0.32549 0.364706 … 0.352941 0.345098; 0.364706 0.423529 … 0.364706 0.258824]\n",
       "\n",
       "[0.431373 0.368627 … 0.376471 0.360784; 0.427451 0.403922 … 0.352941 0.380392; … ; 0.352941 0.368627 … 0.439216 0.384314; 0.380392 0.360784 … 0.411765 0.407843]\n",
       "\n",
       "[0.368627 0.364706 … 0.364706 0.423529; 0.32549 0.372549 … 0.34902 0.360784; … ; 0.294118 0.337255 … 0.415686 0.372549; 0.313725 0.384314 … 0.392157 0.313725], [true true … true false; false false … false true])   \n",
       " ([0.462745 0.376471 … 0.360784 0.298039; 0.454902 0.454902 … 0.309804 0.360784; … ; 0.368627 0.419608 … 0.266667 0.301961; 0.368627 0.427451 … 0.243137 0.247059]\n",
       "\n",
       "[0.384314 0.372549 … 0.447059 0.447059; 0.380392 0.372549 … 0.396078 0.423529; … ; 0.443137 0.439216 … 0.337255 0.380392; 0.396078 0.427451 … 0.368627 0.423529]\n",
       "\n",
       "[0.298039 0.32549 … 0.270588 0.360784; 0.34902 0.286275 … 0.262745 0.32549; … ; 0.294118 0.262745 … 0.188235 0.254902; 0.298039 0.247059 … 0.254902 0.215686]\n",
       "\n",
       "...\n",
       "\n",
       "[0.415686 0.411765 … 0.505882 0.494118; 0.431373 0.470588 … 0.533333 0.505882; … ; 0.368627 0.380392 … 0.380392 0.345098; 0.403922 0.372549 … 0.337255 0.317647]\n",
       "\n",
       "[0.54902 0.478431 … 0.584314 0.607843; 0.486275 0.470588 … 0.52549 0.568627; … ; 0.427451 0.439216 … 0.498039 0.470588; 0.466667 0.435294 … 0.494118 0.52549]\n",
       "\n",
       "[0.329412 0.360784 … 0.396078 0.376471; 0.34902 0.360784 … 0.494118 0.388235; … ; 0.498039 0.592157 … 0.313725 0.301961; 0.478431 0.478431 … 0.317647 0.360784], [true true … true true; false false … false false])  \n",
       " ([0.376471 0.411765 … 0.435294 0.443137; 0.337255 0.380392 … 0.407843 0.376471; … ; 0.439216 0.439216 … 0.34902 0.34902; 0.443137 0.419608 … 0.388235 0.341176]\n",
       "\n",
       "[0.337255 0.341176 … 0.4 0.360784; 0.282353 0.301961 … 0.34902 0.341176; … ; 0.427451 0.392157 … 0.384314 0.376471; 0.411765 0.454902 … 0.254902 0.313725]\n",
       "\n",
       "[0.34902 0.345098 … 0.403922 0.427451; 0.298039 0.364706 … 0.411765 0.4; … ; 0.380392 0.345098 … 0.443137 0.403922; 0.411765 0.372549 … 0.384314 0.384314]\n",
       "\n",
       "...\n",
       "\n",
       "[0.396078 0.380392 … 0.384314 0.427451; 0.403922 0.384314 … 0.286275 0.380392; … ; 0.45098 0.498039 … 0.352941 0.396078; 0.431373 0.415686 … 0.435294 0.466667]\n",
       "\n",
       "[0.454902 0.372549 … 0.321569 0.368627; 0.419608 0.321569 … 0.392157 0.388235; … ; 0.439216 0.509804 … 0.34902 0.305882; 0.415686 0.501961 … 0.254902 0.352941]\n",
       "\n",
       "[0.352941 0.337255 … 0.384314 0.352941; 0.278431 0.290196 … 0.384314 0.376471; … ; 0.345098 0.313725 … 0.384314 0.329412; 0.435294 0.419608 … 0.34902 0.352941], [true true … true true; false false … false false])            \n",
       " ([0.384314 0.384314 … 0.309804 0.34902; 0.368627 0.392157 … 0.294118 0.333333; … ; 0.333333 0.313725 … 0.305882 0.192157; 0.329412 0.278431 … 0.282353 0.298039]\n",
       "\n",
       "[0.407843 0.486275 … 0.372549 0.364706; 0.376471 0.466667 … 0.376471 0.329412; … ; 0.431373 0.447059 … 0.388235 0.360784; 0.356863 0.329412 … 0.305882 0.345098]\n",
       "\n",
       "[0.462745 0.427451 … 0.298039 0.321569; 0.458824 0.388235 … 0.360784 0.317647; … ; 0.372549 0.356863 … 0.45098 0.392157; 0.356863 0.32549 … 0.439216 0.427451]\n",
       "\n",
       "...\n",
       "\n",
       "[0.380392 0.380392 … 0.470588 0.443137; 0.34902 0.380392 … 0.466667 0.447059; … ; 0.337255 0.27451 … 0.478431 0.427451; 0.345098 0.364706 … 0.439216 0.478431]\n",
       "\n",
       "[0.396078 0.415686 … 0.431373 0.419608; 0.388235 0.423529 … 0.443137 0.447059; … ; 0.435294 0.380392 … 0.396078 0.443137; 0.407843 0.317647 … 0.392157 0.435294]\n",
       "\n",
       "[0.411765 0.431373 … 0.427451 0.458824; 0.447059 0.403922 … 0.384314 0.403922; … ; 0.47451 0.482353 … 0.411765 0.419608; 0.490196 0.533333 … 0.423529 0.384314], [false true … true false; true false … false true]) \n",
       " ([0.415686 0.411765 … 0.376471 0.407843; 0.482353 0.415686 … 0.415686 0.447059; … ; 0.490196 0.419608 … 0.466667 0.435294; 0.584314 0.513725 … 0.513725 0.454902]\n",
       "\n",
       "[0.407843 0.352941 … 0.290196 0.321569; 0.360784 0.380392 … 0.294118 0.329412; … ; 0.337255 0.298039 … 0.278431 0.231373; 0.364706 0.34902 … 0.321569 0.317647]\n",
       "\n",
       "[0.372549 0.360784 … 0.407843 0.345098; 0.345098 0.305882 … 0.372549 0.4; … ; 0.34902 0.376471 … 0.301961 0.278431; 0.321569 0.34902 … 0.309804 0.298039]\n",
       "\n",
       "...\n",
       "\n",
       "[0.490196 0.364706 … 0.407843 0.470588; 0.513725 0.388235 … 0.458824 0.478431; … ; 0.32549 0.345098 … 0.364706 0.313725; 0.258824 0.356863 … 0.329412 0.317647]\n",
       "\n",
       "[0.423529 0.439216 … 0.415686 0.368627; 0.431373 0.439216 … 0.403922 0.368627; … ; 0.368627 0.419608 … 0.407843 0.411765; 0.372549 0.396078 … 0.392157 0.419608]\n",
       "\n",
       "[0.0 0.0 … 0.0 0.0; 0.0 0.0 … 0.0 0.0; … ; 0.0 0.0 … 0.0 0.0; 0.0 0.0 … 0.0 0.0], [true true … true true; false false … false false])                                                                                    \n",
       " ([0.329412 0.380392 … 0.270588 0.337255; 0.313725 0.380392 … 0.34902 0.356863; … ; 0.321569 0.341176 … 0.32549 0.337255; 0.32549 0.313725 … 0.305882 0.262745]\n",
       "\n",
       "[0.619608 0.572549 … 0.560784 0.552941; 0.619608 0.639216 … 0.47451 0.564706; … ; 0.607843 0.623529 … 0.572549 0.627451; 0.592157 0.576471 … 0.552941 0.623529]\n",
       "\n",
       "[0.415686 0.419608 … 0.458824 0.494118; 0.458824 0.435294 … 0.478431 0.521569; … ; 0.372549 0.345098 … 0.482353 0.466667; 0.360784 0.380392 … 0.568627 0.482353]\n",
       "\n",
       "...\n",
       "\n",
       "[0.419608 0.403922 … 0.356863 0.360784; 0.419608 0.384314 … 0.403922 0.345098; … ; 0.352941 0.356863 … 0.482353 0.45098; 0.34902 0.368627 … 0.423529 0.411765]\n",
       "\n",
       "[0.505882 0.556863 … 0.494118 0.443137; 0.517647 0.466667 … 0.470588 0.482353; … ; 0.482353 0.478431 … 0.494118 0.541176; 0.498039 0.337255 … 0.423529 0.482353]\n",
       "\n",
       "[0.427451 0.329412 … 0.396078 0.415686; 0.392157 0.392157 … 0.376471 0.352941; … ; 0.447059 0.431373 … 0.494118 0.435294; 0.443137 0.431373 … 0.537255 0.407843], [true true … false true; false false … true false]) \n",
       " ([0.568627 0.498039 … 0.462745 0.498039; 0.580392 0.454902 … 0.447059 0.533333; … ; 0.443137 0.364706 … 0.431373 0.431373; 0.419608 0.439216 … 0.447059 0.4]\n",
       "\n",
       "[0.329412 0.317647 … 0.298039 0.341176; 0.34902 0.352941 … 0.305882 0.309804; … ; 0.458824 0.423529 … 0.321569 0.352941; 0.427451 0.407843 … 0.368627 0.388235]\n",
       "\n",
       "[0.376471 0.364706 … 0.360784 0.4; 0.368627 0.313725 … 0.364706 0.407843; … ; 0.356863 0.301961 … 0.364706 0.317647; 0.317647 0.294118 … 0.352941 0.345098]\n",
       "\n",
       "...\n",
       "\n",
       "[0.552941 0.505882 … 0.407843 0.392157; 0.505882 0.490196 … 0.372549 0.376471; … ; 0.682353 0.623529 … 0.52549 0.443137; 0.690196 0.65098 … 0.576471 0.509804]\n",
       "\n",
       "[0.435294 0.415686 … 0.458824 0.486275; 0.431373 0.396078 … 0.447059 0.462745; … ; 0.411765 0.380392 … 0.345098 0.376471; 0.419608 0.423529 … 0.364706 0.392157]\n",
       "\n",
       "[0.415686 0.392157 … 0.364706 0.337255; 0.360784 0.392157 … 0.345098 0.364706; … ; 0.298039 0.298039 … 0.301961 0.270588; 0.305882 0.341176 … 0.266667 0.290196], [true true … true false; false false … false true])        \n",
       " ([0.32549 0.317647 … 0.313725 0.305882; 0.368627 0.356863 … 0.372549 0.321569; … ; 0.4 0.431373 … 0.372549 0.301961; 0.360784 0.356863 … 0.329412 0.266667]\n",
       "\n",
       "[0.388235 0.352941 … 0.368627 0.388235; 0.380392 0.388235 … 0.419608 0.45098; … ; 0.345098 0.352941 … 0.427451 0.454902; 0.403922 0.34902 … 0.388235 0.396078]\n",
       "\n",
       "[0.443137 0.458824 … 0.466667 0.447059; 0.423529 0.443137 … 0.466667 0.427451; … ; 0.384314 0.423529 … 0.443137 0.427451; 0.4 0.423529 … 0.431373 0.427451]\n",
       "\n",
       "...\n",
       "\n",
       "[0.384314 0.376471 … 0.376471 0.372549; 0.317647 0.345098 … 0.368627 0.384314; … ; 0.482353 0.435294 … 0.427451 0.333333; 0.45098 0.423529 … 0.376471 0.407843]\n",
       "\n",
       "[0.368627 0.392157 … 0.396078 0.427451; 0.4 0.431373 … 0.435294 0.435294; … ; 0.388235 0.403922 … 0.411765 0.384314; 0.4 0.388235 … 0.466667 0.392157]\n",
       "\n",
       "[0.345098 0.321569 … 0.443137 0.447059; 0.356863 0.301961 … 0.411765 0.435294; … ; 0.286275 0.32549 … 0.423529 0.407843; 0.341176 0.317647 … 0.364706 0.352941], [true true … true true; false false … false false])                    \n",
       " ([0.431373 0.419608 … 0.345098 0.419608; 0.380392 0.32549 … 0.368627 0.368627; … ; 0.498039 0.431373 … 0.32549 0.341176; 0.47451 0.458824 … 0.305882 0.317647]\n",
       "\n",
       "[0.27451 0.235294 … 0.270588 0.258824; 0.270588 0.266667 … 0.298039 0.337255; … ; 0.27451 0.278431 … 0.301961 0.309804; 0.239216 0.27451 … 0.305882 0.282353]\n",
       "\n",
       "[0.654902 0.65098 … 0.403922 0.388235; 0.584314 0.635294 … 0.419608 0.431373; … ; 0.45098 0.494118 … 0.568627 0.517647; 0.466667 0.478431 … 0.443137 0.447059]\n",
       "\n",
       "...\n",
       "\n",
       "[0.447059 0.47451 … 0.337255 0.384314; 0.419608 0.427451 … 0.419608 0.407843; … ; 0.509804 0.45098 … 0.439216 0.396078; 0.529412 0.486275 … 0.435294 0.380392]\n",
       "\n",
       "[0.572549 0.517647 … 0.572549 0.6; 0.521569 0.478431 … 0.580392 0.611765; … ; 0.45098 0.380392 … 0.607843 0.533333; 0.407843 0.396078 … 0.619608 0.52549]\n",
       "\n",
       "[0.360784 0.364706 … 0.427451 0.368627; 0.352941 0.34902 … 0.466667 0.419608; … ; 0.290196 0.278431 … 0.392157 0.368627; 0.341176 0.345098 … 0.32549 0.290196], [true true … true true; false false … false false])              \n",
       " ([0.388235 0.282353 … 0.372549 0.415686; 0.329412 0.313725 … 0.290196 0.403922; … ; 0.411765 0.4 … 0.364706 0.4; 0.423529 0.384314 … 0.439216 0.423529]\n",
       "\n",
       "[0.360784 0.360784 … 0.482353 0.396078; 0.360784 0.321569 … 0.52549 0.462745; … ; 0.372549 0.380392 … 0.32549 0.4; 0.345098 0.392157 … 0.329412 0.411765]\n",
       "\n",
       "[0.403922 0.345098 … 0.45098 0.423529; 0.278431 0.258824 … 0.403922 0.427451; … ; 0.341176 0.329412 … 0.345098 0.435294; 0.301961 0.345098 … 0.337255 0.423529]\n",
       "\n",
       "...\n",
       "\n",
       "[0.247059 0.317647 … 0.254902 0.337255; 0.207843 0.286275 … 0.360784 0.301961; … ; 0.388235 0.396078 … 0.298039 0.337255; 0.392157 0.341176 … 0.239216 0.247059]\n",
       "\n",
       "[0.458824 0.443137 … 0.505882 0.380392; 0.447059 0.466667 … 0.509804 0.490196; … ; 0.447059 0.376471 … 0.439216 0.447059; 0.47451 0.407843 … 0.568627 0.478431]\n",
       "\n",
       "[0.254902 0.329412 … 0.321569 0.219608; 0.282353 0.356863 … 0.341176 0.235294; … ; 0.4 0.4 … 0.262745 0.305882; 0.411765 0.415686 … 0.266667 0.360784], [true true … true true; false false … false false])                        \n",
       " ([0.34902 0.411765 … 0.4 0.447059; 0.407843 0.419608 … 0.392157 0.403922; … ; 0.337255 0.396078 … 0.427451 0.407843; 0.380392 0.482353 … 0.458824 0.364706]\n",
       "\n",
       "[0.411765 0.364706 … 0.384314 0.415686; 0.352941 0.298039 … 0.352941 0.396078; … ; 0.368627 0.345098 … 0.313725 0.32549; 0.329412 0.317647 … 0.380392 0.352941]\n",
       "\n",
       "[0.462745 0.45098 … 0.388235 0.427451; 0.447059 0.447059 … 0.376471 0.392157; … ; 0.623529 0.647059 … 0.34902 0.360784; 0.615686 0.654902 … 0.345098 0.376471]\n",
       "\n",
       "...\n",
       "\n",
       "[0.462745 0.458824 … 0.360784 0.388235; 0.45098 0.462745 … 0.380392 0.396078; … ; 0.380392 0.419608 … 0.411765 0.45098; 0.364706 0.376471 … 0.313725 0.376471]\n",
       "\n",
       "[0.458824 0.458824 … 0.407843 0.403922; 0.439216 0.45098 … 0.388235 0.34902; … ; 0.458824 0.482353 … 0.419608 0.482353; 0.482353 0.505882 … 0.392157 0.466667]\n",
       "\n",
       "[0.423529 0.384314 … 0.34902 0.388235; 0.486275 0.431373 … 0.345098 0.403922; … ; 0.345098 0.376471 … 0.388235 0.392157; 0.352941 0.384314 … 0.341176 0.352941], [true true … true true; false false … false false])         \n",
       " ([0.470588 0.482353 … 0.580392 0.521569; 0.537255 0.533333 … 0.580392 0.560784; … ; 0.380392 0.435294 … 0.521569 0.466667; 0.372549 0.396078 … 0.458824 0.45098]\n",
       "\n",
       "[0.309804 0.341176 … 0.364706 0.364706; 0.360784 0.368627 … 0.380392 0.376471; … ; 0.372549 0.376471 … 0.384314 0.392157; 0.384314 0.356863 … 0.368627 0.376471]\n",
       "\n",
       "[0.32549 0.309804 … 0.329412 0.364706; 0.301961 0.321569 … 0.329412 0.290196; … ; 0.329412 0.345098 … 0.356863 0.388235; 0.290196 0.329412 … 0.313725 0.356863]\n",
       "\n",
       "...\n",
       "\n",
       "[0.509804 0.45098 … 0.482353 0.462745; 0.490196 0.454902 … 0.482353 0.490196; … ; 0.427451 0.396078 … 0.447059 0.396078; 0.380392 0.368627 … 0.447059 0.443137]\n",
       "\n",
       "[0.505882 0.505882 … 0.462745 0.564706; 0.517647 0.501961 … 0.552941 0.54902; … ; 0.490196 0.537255 … 0.498039 0.364706; 0.427451 0.513725 … 0.498039 0.478431]\n",
       "\n",
       "[0.52549 0.498039 … 0.388235 0.431373; 0.482353 0.478431 … 0.454902 0.490196; … ; 0.384314 0.392157 … 0.470588 0.376471; 0.462745 0.431373 … 0.447059 0.341176], [false true … true true; true false … false false])\n",
       " ⋮                                                                                                                                                                                                                                                                                                                                                                                                                                                                                                                                                                                                                                                                                                                                                                                                                                                                                                                                                                                                                                                               \n",
       " ([0.388235 0.384314 … 0.352941 0.356863; 0.411765 0.396078 … 0.313725 0.345098; … ; 0.34902 0.345098 … 0.309804 0.329412; 0.341176 0.286275 … 0.364706 0.305882]\n",
       "\n",
       "[0.435294 0.32549 … 0.494118 0.533333; 0.478431 0.470588 … 0.423529 0.486275; … ; 0.541176 0.517647 … 0.498039 0.45098; 0.517647 0.541176 … 0.537255 0.454902]\n",
       "\n",
       "[0.388235 0.388235 … 0.356863 0.345098; 0.392157 0.360784 … 0.360784 0.368627; … ; 0.431373 0.415686 … 0.423529 0.470588; 0.427451 0.435294 … 0.396078 0.478431]\n",
       "\n",
       "...\n",
       "\n",
       "[0.372549 0.345098 … 0.407843 0.443137; 0.368627 0.4 … 0.380392 0.419608; … ; 0.356863 0.427451 … 0.341176 0.34902; 0.388235 0.415686 … 0.309804 0.341176]\n",
       "\n",
       "[0.419608 0.368627 … 0.411765 0.392157; 0.392157 0.352941 … 0.396078 0.341176; … ; 0.384314 0.407843 … 0.356863 0.364706; 0.360784 0.372549 … 0.427451 0.352941]\n",
       "\n",
       "[0.52549 0.533333 … 0.611765 0.564706; 0.596078 0.509804 … 0.607843 0.572549; … ; 0.552941 0.513725 … 0.654902 0.647059; 0.556863 0.447059 … 0.67451 0.631373], [true false … true true; false true … false false])      \n",
       " ([0.52549 0.529412 … 0.47451 0.458824; 0.529412 0.541176 … 0.447059 0.482353; … ; 0.298039 0.423529 … 0.415686 0.439216; 0.345098 0.388235 … 0.396078 0.466667]\n",
       "\n",
       "[0.431373 0.4 … 0.411765 0.352941; 0.403922 0.396078 … 0.368627 0.352941; … ; 0.341176 0.372549 … 0.380392 0.427451; 0.423529 0.407843 … 0.372549 0.435294]\n",
       "\n",
       "[0.341176 0.380392 … 0.458824 0.415686; 0.27451 0.329412 … 0.466667 0.411765; … ; 0.32549 0.301961 … 0.356863 0.329412; 0.290196 0.262745 … 0.352941 0.352941]\n",
       "\n",
       "...\n",
       "\n",
       "[0.498039 0.521569 … 0.388235 0.356863; 0.470588 0.498039 … 0.427451 0.392157; … ; 0.34902 0.380392 … 0.360784 0.415686; 0.392157 0.341176 … 0.396078 0.427451]\n",
       "\n",
       "[0.329412 0.337255 … 0.305882 0.313725; 0.298039 0.309804 … 0.34902 0.313725; … ; 0.372549 0.360784 … 0.329412 0.337255; 0.34902 0.337255 … 0.380392 0.380392]\n",
       "\n",
       "[0.45098 0.34902 … 0.494118 0.431373; 0.384314 0.368627 … 0.52549 0.47451; … ; 0.411765 0.345098 … 0.415686 0.403922; 0.364706 0.34902 … 0.360784 0.388235], [true true … true true; false false … false false])            \n",
       " ([0.4 0.356863 … 0.360784 0.372549; 0.313725 0.352941 … 0.262745 0.341176; … ; 0.454902 0.490196 … 0.462745 0.443137; 0.509804 0.482353 … 0.388235 0.466667]\n",
       "\n",
       "[0.47451 0.513725 … 0.556863 0.439216; 0.411765 0.47451 … 0.615686 0.54902; … ; 0.447059 0.356863 … 0.454902 0.443137; 0.423529 0.376471 … 0.513725 0.443137]\n",
       "\n",
       "[0.45098 0.482353 … 0.478431 0.45098; 0.407843 0.482353 … 0.482353 0.431373; … ; 0.439216 0.45098 … 0.478431 0.513725; 0.427451 0.466667 … 0.490196 0.478431]\n",
       "\n",
       "...\n",
       "\n",
       "[0.290196 0.313725 … 0.321569 0.294118; 0.396078 0.364706 … 0.321569 0.305882; … ; 0.301961 0.32549 … 0.32549 0.337255; 0.317647 0.317647 … 0.345098 0.34902]\n",
       "\n",
       "[0.505882 0.498039 … 0.403922 0.384314; 0.505882 0.486275 … 0.364706 0.345098; … ; 0.407843 0.411765 … 0.439216 0.384314; 0.431373 0.403922 … 0.360784 0.364706]\n",
       "\n",
       "[0.392157 0.372549 … 0.478431 0.431373; 0.423529 0.403922 … 0.458824 0.368627; … ; 0.341176 0.317647 … 0.639216 0.627451; 0.360784 0.372549 … 0.568627 0.588235], [true true … true true; false false … false false])         \n",
       " ([0.509804 0.517647 … 0.545098 0.545098; 0.482353 0.505882 … 0.541176 0.572549; … ; 0.498039 0.509804 … 0.627451 0.603922; 0.513725 0.533333 … 0.627451 0.596078]\n",
       "\n",
       "[0.360784 0.317647 … 0.380392 0.462745; 0.345098 0.360784 … 0.392157 0.407843; … ; 0.372549 0.368627 … 0.356863 0.341176; 0.384314 0.313725 … 0.384314 0.388235]\n",
       "\n",
       "[0.215686 0.305882 … 0.356863 0.309804; 0.321569 0.266667 … 0.337255 0.341176; … ; 0.0 0.0 … 0.0 0.0; 0.0 0.0 … 0.0 0.0]\n",
       "\n",
       "...\n",
       "\n",
       "[0.439216 0.443137 … 0.478431 0.47451; 0.431373 0.431373 … 0.403922 0.360784; … ; 0.431373 0.45098 … 0.486275 0.505882; 0.407843 0.431373 … 0.470588 0.517647]\n",
       "\n",
       "[0.384314 0.384314 … 0.529412 0.392157; 0.403922 0.4 … 0.517647 0.419608; … ; 0.458824 0.470588 … 0.368627 0.482353; 0.482353 0.439216 … 0.419608 0.482353]\n",
       "\n",
       "[0.47451 0.490196 … 0.435294 0.443137; 0.462745 0.470588 … 0.47451 0.560784; … ; 0.486275 0.494118 … 0.419608 0.396078; 0.505882 0.415686 … 0.384314 0.384314], [false true … true true; true false … false false])                                            \n",
       " ([0.376471 0.372549 … 0.34902 0.305882; 0.309804 0.407843 … 0.356863 0.278431; … ; 0.403922 0.376471 … 0.372549 0.403922; 0.321569 0.4 … 0.364706 0.4]\n",
       "\n",
       "[0.352941 0.313725 … 0.435294 0.388235; 0.392157 0.356863 … 0.470588 0.505882; … ; 0.341176 0.294118 … 0.329412 0.34902; 0.337255 0.298039 … 0.286275 0.282353]\n",
       "\n",
       "[0.458824 0.435294 … 0.541176 0.509804; 0.482353 0.47451 … 0.505882 0.462745; … ; 0.431373 0.392157 … 0.435294 0.403922; 0.498039 0.447059 … 0.458824 0.447059]\n",
       "\n",
       "...\n",
       "\n",
       "[0.352941 0.415686 … 0.356863 0.372549; 0.392157 0.431373 … 0.345098 0.294118; … ; 0.4 0.345098 … 0.329412 0.368627; 0.372549 0.329412 … 0.309804 0.4]\n",
       "\n",
       "[0.368627 0.317647 … 0.262745 0.294118; 0.32549 0.294118 … 0.286275 0.321569; … ; 0.407843 0.368627 … 0.215686 0.270588; 0.396078 0.290196 … 0.278431 0.247059]\n",
       "\n",
       "[0.372549 0.305882 … 0.384314 0.298039; 0.364706 0.341176 … 0.368627 0.341176; … ; 0.384314 0.372549 … 0.384314 0.411765; 0.321569 0.294118 … 0.403922 0.415686], [true true … true true; false false … false false])                   \n",
       " ([0.352941 0.372549 … 0.392157 0.32549; 0.345098 0.4 … 0.388235 0.372549; … ; 0.356863 0.396078 … 0.411765 0.439216; 0.352941 0.396078 … 0.411765 0.443137]\n",
       "\n",
       "[0.321569 0.403922 … 0.294118 0.376471; 0.34902 0.403922 … 0.313725 0.317647; … ; 0.341176 0.341176 … 0.352941 0.337255; 0.266667 0.309804 … 0.356863 0.321569]\n",
       "\n",
       "[0.368627 0.317647 … 0.360784 0.431373; 0.435294 0.294118 … 0.392157 0.439216; … ; 0.321569 0.352941 … 0.337255 0.309804; 0.4 0.345098 … 0.345098 0.376471]\n",
       "\n",
       "...\n",
       "\n",
       "[0.403922 0.517647 … 0.407843 0.431373; 0.443137 0.462745 … 0.317647 0.411765; … ; 0.4 0.396078 … 0.368627 0.278431; 0.380392 0.329412 … 0.270588 0.286275]\n",
       "\n",
       "[0.423529 0.392157 … 0.278431 0.392157; 0.380392 0.388235 … 0.32549 0.341176; … ; 0.384314 0.411765 … 0.431373 0.388235; 0.360784 0.411765 … 0.415686 0.352941]\n",
       "\n",
       "[0.392157 0.34902 … 0.490196 0.494118; 0.462745 0.458824 … 0.537255 0.52549; … ; 0.419608 0.392157 … 0.435294 0.431373; 0.388235 0.32549 … 0.364706 0.352941], [true false … true true; false true … false false])                \n",
       " ([0.372549 0.298039 … 0.360784 0.305882; 0.384314 0.313725 … 0.360784 0.290196; … ; 0.34902 0.337255 … 0.345098 0.356863; 0.329412 0.356863 … 0.337255 0.372549]\n",
       "\n",
       "[0.435294 0.470588 … 0.407843 0.427451; 0.439216 0.47451 … 0.372549 0.407843; … ; 0.490196 0.466667 … 0.513725 0.537255; 0.494118 0.470588 … 0.541176 0.521569]\n",
       "\n",
       "[0.345098 0.352941 … 0.388235 0.376471; 0.376471 0.356863 … 0.392157 0.47451; … ; 0.317647 0.372549 … 0.360784 0.439216; 0.317647 0.380392 … 0.423529 0.447059]\n",
       "\n",
       "...\n",
       "\n",
       "[0.298039 0.435294 … 0.392157 0.419608; 0.364706 0.364706 … 0.447059 0.447059; … ; 0.364706 0.341176 … 0.419608 0.443137; 0.419608 0.380392 … 0.396078 0.384314]\n",
       "\n",
       "[0.372549 0.352941 … 0.337255 0.329412; 0.34902 0.352941 … 0.34902 0.298039; … ; 0.337255 0.345098 … 0.435294 0.415686; 0.321569 0.341176 … 0.427451 0.419608]\n",
       "\n",
       "[0.403922 0.301961 … 0.337255 0.372549; 0.490196 0.431373 … 0.368627 0.380392; … ; 0.372549 0.4 … 0.372549 0.403922; 0.407843 0.34902 … 0.317647 0.388235], [true true … true true; false false … false false])      \n",
       " ([0.388235 0.290196 … 0.423529 0.384314; 0.396078 0.345098 … 0.384314 0.419608; … ; 0.341176 0.27451 … 0.360784 0.301961; 0.341176 0.317647 … 0.352941 0.341176]\n",
       "\n",
       "[0.396078 0.513725 … 0.470588 0.513725; 0.423529 0.478431 … 0.435294 0.45098; … ; 0.478431 0.45098 … 0.513725 0.568627; 0.462745 0.435294 … 0.470588 0.517647]\n",
       "\n",
       "[0.403922 0.360784 … 0.298039 0.32549; 0.345098 0.341176 … 0.321569 0.356863; … ; 0.34902 0.360784 … 0.45098 0.470588; 0.380392 0.376471 … 0.380392 0.4]\n",
       "\n",
       "...\n",
       "\n",
       "[0.403922 0.32549 … 0.360784 0.305882; 0.341176 0.345098 … 0.368627 0.352941; … ; 0.345098 0.345098 … 0.364706 0.415686; 0.341176 0.364706 … 0.345098 0.337255]\n",
       "\n",
       "[0.427451 0.388235 … 0.427451 0.45098; 0.376471 0.356863 … 0.396078 0.439216; … ; 0.407843 0.388235 … 0.466667 0.372549; 0.411765 0.376471 … 0.403922 0.376471]\n",
       "\n",
       "[0.517647 0.447059 … 0.486275 0.462745; 0.454902 0.458824 … 0.505882 0.470588; … ; 0.47451 0.419608 … 0.435294 0.435294; 0.521569 0.447059 … 0.415686 0.486275], [true false … true true; false true … false false])         \n",
       " ([0.396078 0.415686 … 0.431373 0.419608; 0.388235 0.423529 … 0.443137 0.447059; … ; 0.435294 0.380392 … 0.396078 0.443137; 0.407843 0.317647 … 0.392157 0.435294]\n",
       "\n",
       "[0.419608 0.368627 … 0.439216 0.509804; 0.4 0.376471 … 0.462745 0.47451; … ; 0.372549 0.34902 … 0.376471 0.356863; 0.262745 0.364706 … 0.427451 0.352941]\n",
       "\n",
       "[0.439216 0.427451 … 0.419608 0.45098; 0.447059 0.431373 … 0.396078 0.431373; … ; 0.423529 0.439216 … 0.411765 0.470588; 0.407843 0.407843 … 0.435294 0.482353]\n",
       "\n",
       "...\n",
       "\n",
       "[0.329412 0.313725 … 0.345098 0.313725; 0.266667 0.294118 … 0.305882 0.258824; … ; 0.305882 0.313725 … 0.294118 0.329412; 0.254902 0.372549 … 0.317647 0.384314]\n",
       "\n",
       "[0.439216 0.392157 … 0.392157 0.415686; 0.443137 0.407843 … 0.454902 0.34902; … ; 0.380392 0.372549 … 0.439216 0.431373; 0.376471 0.380392 … 0.356863 0.45098]\n",
       "\n",
       "[0.254902 0.254902 … 0.360784 0.345098; 0.294118 0.286275 … 0.360784 0.34902; … ; 0.396078 0.396078 … 0.313725 0.301961; 0.396078 0.392157 … 0.309804 0.290196], [true true … true false; false false … false true])      \n",
       " ([0.427451 0.372549 … 0.415686 0.345098; 0.392157 0.34902 … 0.4 0.396078; … ; 0.341176 0.294118 … 0.309804 0.411765; 0.368627 0.313725 … 0.321569 0.396078]\n",
       "\n",
       "[0.356863 0.396078 … 0.403922 0.396078; 0.294118 0.411765 … 0.427451 0.419608; … ; 0.372549 0.392157 … 0.34902 0.360784; 0.345098 0.384314 … 0.368627 0.356863]\n",
       "\n",
       "[0.388235 0.341176 … 0.298039 0.388235; 0.368627 0.317647 … 0.407843 0.431373; … ; 0.423529 0.380392 … 0.286275 0.298039; 0.380392 0.423529 … 0.329412 0.313725]\n",
       "\n",
       "...\n",
       "\n",
       "[0.411765 0.368627 … 0.372549 0.345098; 0.384314 0.372549 … 0.4 0.352941; … ; 0.309804 0.301961 … 0.419608 0.345098; 0.352941 0.313725 … 0.407843 0.356863]\n",
       "\n",
       "[0.368627 0.32549 … 0.368627 0.364706; 0.415686 0.439216 … 0.329412 0.32549; … ; 0.403922 0.407843 … 0.419608 0.407843; 0.356863 0.380392 … 0.396078 0.45098]\n",
       "\n",
       "[0.439216 0.572549 … 0.415686 0.517647; 0.478431 0.533333 … 0.435294 0.435294; … ; 0.556863 0.529412 … 0.505882 0.47451; 0.498039 0.513725 … 0.490196 0.447059], [true true … true true; false false … false false])           \n",
       " ([0.443137 0.396078 … 0.411765 0.466667; 0.45098 0.392157 … 0.454902 0.407843; … ; 0.360784 0.341176 … 0.458824 0.447059; 0.352941 0.258824 … 0.443137 0.431373]\n",
       "\n",
       "[0.25098 0.356863 … 0.309804 0.298039; 0.321569 0.380392 … 0.341176 0.290196; … ; 0.427451 0.415686 … 0.34902 0.345098; 0.396078 0.360784 … 0.294118 0.360784]\n",
       "\n",
       "[0.352941 0.364706 … 0.372549 0.458824; 0.239216 0.352941 … 0.368627 0.439216; … ; 0.521569 0.47451 … 0.435294 0.32549; 0.580392 0.556863 … 0.443137 0.380392]\n",
       "\n",
       "...\n",
       "\n",
       "[0.352941 0.337255 … 0.34902 0.352941; 0.388235 0.341176 … 0.345098 0.329412; … ; 0.313725 0.4 … 0.341176 0.313725; 0.301961 0.376471 … 0.337255 0.309804]\n",
       "\n",
       "[0.290196 0.317647 … 0.337255 0.345098; 0.290196 0.258824 … 0.407843 0.396078; … ; 0.301961 0.243137 … 0.294118 0.333333; 0.333333 0.309804 … 0.356863 0.34902]\n",
       "\n",
       "[0.454902 0.490196 … 0.596078 0.615686; 0.482353 0.521569 … 0.596078 0.615686; … ; 0.435294 0.490196 … 0.454902 0.439216; 0.498039 0.537255 … 0.47451 0.470588], [false true … true true; true false … false false])        \n",
       " ([0.294118 0.364706 … 0.298039 0.352941; 0.243137 0.309804 … 0.34902 0.32549; … ; 0.356863 0.32549 … 0.270588 0.270588; 0.34902 0.345098 … 0.32549 0.243137]\n",
       "\n",
       "[0.501961 0.486275 … 0.482353 0.431373; 0.486275 0.482353 … 0.478431 0.462745; … ; 0.521569 0.494118 … 0.341176 0.356863; 0.482353 0.486275 … 0.392157 0.388235]\n",
       "\n",
       "[0.486275 0.537255 … 0.419608 0.454902; 0.470588 0.52549 … 0.439216 0.458824; … ; 0.454902 0.431373 … 0.388235 0.419608; 0.498039 0.513725 … 0.392157 0.364706]\n",
       "\n",
       "...\n",
       "\n",
       "[0.478431 0.47451 … 0.447059 0.52549; 0.403922 0.356863 … 0.498039 0.517647; … ; 0.513725 0.447059 … 0.505882 0.529412; 0.462745 0.45098 … 0.447059 0.521569]\n",
       "\n",
       "[0.588235 0.560784 … 0.54902 0.572549; 0.623529 0.607843 … 0.505882 0.580392; … ; 0.580392 0.647059 … 0.639216 0.615686; 0.596078 0.607843 … 0.647059 0.615686]\n",
       "\n",
       "[0.627451 0.619608 … 0.34902 0.341176; 0.647059 0.643137 … 0.368627 0.360784; … ; 0.482353 0.54902 … 0.513725 0.462745; 0.478431 0.545098 … 0.513725 0.443137], [true true … true true; false false … false false])       "
      ]
     },
     "execution_count": 6,
     "metadata": {},
     "output_type": "execute_result"
    }
   ],
   "source": [
    "function prepare_inputs(images, targets, batch_size)\n",
    "    reshaped_images = reshape(float.(images), (110, 110, 1, :))\n",
    "    [(reshaped_images[:, :, :, i], targets[:, i])\n",
    "         for i in partition(1:last(size(images)), batch_size)]\n",
    "end\n",
    "\n",
    "train = prepare_inputs(images_train, targets_train, 100)\n",
    "test = prepare_inputs(images_test, targets_test, 100)"
   ]
  },
  {
   "cell_type": "markdown",
   "metadata": {},
   "source": [
    "# Start modeling\n",
    "\n",
    "Now that we have some data, let's start doing the ML"
   ]
  },
  {
   "cell_type": "code",
   "execution_count": 69,
   "metadata": {},
   "outputs": [
    {
     "name": "stdout",
     "output_type": "stream",
     "text": [
      "  1.583583 seconds (3.80 M allocations: 766.419 MiB, 49.06% gc time)\n"
     ]
    },
    {
     "data": {
      "text/plain": [
       "Tracked 2×100 Array{Float64,2}:\n",
       " 0.891533  0.695322  0.562673  0.2415  …  0.152704  0.396471  0.578118\n",
       " 0.108467  0.304678  0.437327  0.7585     0.847296  0.603529  0.421882"
      ]
     },
     "execution_count": 69,
     "metadata": {},
     "output_type": "execute_result"
    }
   ],
   "source": [
    "cnn = Chain(\n",
    "    BatchNorm(1),\n",
    "    Conv((2, 2), 1=>8, relu),\n",
    "    x -> maxpool(x, (2, 2)),\n",
    "    BatchNorm(8),\n",
    "    Conv((2, 2), 8=>16, relu),\n",
    "    x -> maxpool(x, (2, 2)),\n",
    "    BatchNorm(16),\n",
    "    Conv((2, 2), 16=>16, relu),\n",
    "    x -> maxpool(x, (2, 2)),\n",
    "    BatchNorm(16),\n",
    "    Conv((2, 2), 16=>4, relu),\n",
    "    x -> maxpool(x, (2, 2)),\n",
    "    BatchNorm(4),\n",
    "    x -> reshape(x, :, size(x, 4)),\n",
    "    BatchNorm(100),\n",
    "    Dense(100, 2),\n",
    "    BatchNorm(2),\n",
    "    softmax)\n",
    "\n",
    "@time cnn(train[1][1])"
   ]
  },
  {
   "cell_type": "code",
   "execution_count": 81,
   "metadata": {},
   "outputs": [
    {
     "name": "stdout",
     "output_type": "stream",
     "text": [
      "  0.006208 seconds (3.73 k allocations: 174.729 KiB)\n"
     ]
    },
    {
     "data": {
      "text/plain": [
       "Tracked 2×100 Array{Float64,2}:\n",
       " 0.129814  0.368872  0.623537  0.456982  …  0.55431  0.0521616  0.293199\n",
       " 0.870186  0.631128  0.376463  0.543018     0.44569  0.947838   0.706801"
      ]
     },
     "execution_count": 81,
     "metadata": {},
     "output_type": "execute_result"
    }
   ],
   "source": [
    "baseline = Chain(\n",
    "    x -> reshape(x, :, size(x, 4)),\n",
    "    Dense(110*110, 2),\n",
    "    BatchNorm(2),\n",
    "    softmax)\n",
    "@time baseline(train[1][1])"
   ]
  },
  {
   "cell_type": "code",
   "execution_count": 82,
   "metadata": {
    "scrolled": true
   },
   "outputs": [
    {
     "data": {
      "text/plain": [
       "train_model (generic function with 1 method)"
      ]
     },
     "execution_count": 82,
     "metadata": {},
     "output_type": "execute_result"
    }
   ],
   "source": [
    "function train_model(m)\n",
    "    loss(x, y) = crossentropy(m(x), y)\n",
    "\n",
    "    mean(x) = sum(x) / length(x)\n",
    "    accuracy(x, y) = mean(onecold(m(x)) .== onecold(y))\n",
    "\n",
    "    Xt_ = test[1][1]\n",
    "    Yt_ = test[1][2]\n",
    "    function callback()\n",
    "        @show loss(Xt_, Yt_)\n",
    "        @show accuracy(Xt_, Yt_)\n",
    "    end\n",
    "\n",
    "    evalcb = throttle(callback, 100)\n",
    "\n",
    "    opt = ADAM(params(m), 0.1)\n",
    "\n",
    "    @epochs 10 Flux.train!(loss, train, opt, cb = evalcb)\n",
    "    \n",
    "    println(\"Final accuracy: $(accuracy())\")\n",
    "end"
   ]
  },
  {
   "cell_type": "code",
   "execution_count": 83,
   "metadata": {},
   "outputs": [
    {
     "name": "stderr",
     "output_type": "stream",
     "text": [
      "┌ Info: Epoch 1\n",
      "└ @ Main /home/peterjdolan/.julia/packages/Flux/oN61x/src/optimise/train.jl:93\n"
     ]
    },
    {
     "name": "stdout",
     "output_type": "stream",
     "text": [
      "loss(Xt_, Yt_) = 0.6245574707418318 (tracked)\n",
      "accuracy(Xt_, Yt_) = 0.86\n"
     ]
    },
    {
     "name": "stderr",
     "output_type": "stream",
     "text": [
      "┌ Info: Epoch 2\n",
      "└ @ Main /home/peterjdolan/.julia/packages/Flux/oN61x/src/optimise/train.jl:93\n",
      "┌ Info: Epoch 3\n",
      "└ @ Main /home/peterjdolan/.julia/packages/Flux/oN61x/src/optimise/train.jl:93\n",
      "┌ Info: Epoch 4\n",
      "└ @ Main /home/peterjdolan/.julia/packages/Flux/oN61x/src/optimise/train.jl:93\n",
      "┌ Info: Epoch 5\n",
      "└ @ Main /home/peterjdolan/.julia/packages/Flux/oN61x/src/optimise/train.jl:93\n",
      "┌ Info: Epoch 6\n",
      "└ @ Main /home/peterjdolan/.julia/packages/Flux/oN61x/src/optimise/train.jl:93\n",
      "┌ Info: Epoch 7\n",
      "└ @ Main /home/peterjdolan/.julia/packages/Flux/oN61x/src/optimise/train.jl:93\n",
      "┌ Info: Epoch 8\n",
      "└ @ Main /home/peterjdolan/.julia/packages/Flux/oN61x/src/optimise/train.jl:93\n",
      "┌ Info: Epoch 9\n",
      "└ @ Main /home/peterjdolan/.julia/packages/Flux/oN61x/src/optimise/train.jl:93\n",
      "┌ Info: Epoch 10\n",
      "└ @ Main /home/peterjdolan/.julia/packages/Flux/oN61x/src/optimise/train.jl:93\n"
     ]
    }
   ],
   "source": [
    "train_model(baseline)"
   ]
  }
 ],
 "metadata": {
  "kernelspec": {
   "display_name": "Julia 1.0.2",
   "language": "julia",
   "name": "julia-1.0"
  },
  "language_info": {
   "file_extension": ".jl",
   "mimetype": "application/julia",
   "name": "julia",
   "version": "1.0.2"
  }
 },
 "nbformat": 4,
 "nbformat_minor": 2
}
